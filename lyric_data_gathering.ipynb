{
 "cells": [
  {
   "cell_type": "code",
   "execution_count": 1,
   "metadata": {},
   "outputs": [],
   "source": [
    "import pandas as pd\n",
    "import numpy as np\n",
    "import requests\n",
    "import copy\n",
    "from bs4 import BeautifulSoup, Comment, NavigableString\n",
    "import sys, codecs, json"
   ]
  },
  {
   "cell_type": "code",
   "execution_count": 2,
   "metadata": {},
   "outputs": [],
   "source": [
    "API_KEY = '______'"
   ]
  },
  {
   "cell_type": "code",
   "execution_count": 3,
   "metadata": {},
   "outputs": [],
   "source": [
    "# Imbedded dictionaries of genre: artist: albums: songs.\n",
    "artist_albums = {'heavy metal': {'metallica': {'ride the lightning':'',\n",
    "                                               'master of puppets':'',\n",
    "                                               '...and justice for all':''},\n",
    "                                 'slayer': {'reign in blood':'',\n",
    "                                            'south of heaven':'',\n",
    "                                            'seasons in the abyss':''},\n",
    "                                 'judas priest': {'british steel':'',\n",
    "                                                  'screaming for vengeance':'',\n",
    "                                                  'painkiller':''}},\n",
    "                 'rap': {'wu tang clan': {'enter the wu-tang: 36 chambers':'',\n",
    "                                          'the w':'',\n",
    "                                          'iron flag':''},\n",
    "                         'nas': {'illmatic':'',\n",
    "                                 'it was written':'',\n",
    "                                 'i am...':''},\n",
    "                         '2pac': {'strictly 4 my n.i.g.g.a.z...':'',\n",
    "                                  'me against the world':'',\n",
    "                                  'all eyez on me':''}},\n",
    "                 'country': {'johnny cash': {'man in black':'',\n",
    "                                             'at san quentin':'',\n",
    "                                             'at folsom prison':''},\n",
    "                             'patsy cline': {'patsy cline':'',\n",
    "                                             'showcase':'',\n",
    "                                             'sentimentally yours':''},\n",
    "                              'willie nelson': {'stardust':'',\n",
    "                                                'shotgun willie':'',\n",
    "                                                'red headed stranger':''}},\n",
    "                 'pop': {'taylor swift': {'fearless':'',\n",
    "                                          'speak now':'',\n",
    "                                          '1989':''},\n",
    "                         'katy perry': {'teenage dream':'',\n",
    "                                        'prism':'',\n",
    "                                        'witness':''},\n",
    "                         'ariana grande': {'dangerous woman':'',\n",
    "                                           'sweetener':'',\n",
    "                                           'thank u, next':''}},\n",
    "                 'rock': {'def leppard': {\"high 'n' dry\":'',\n",
    "                                          'pyromania':'',\n",
    "                                          'hysteria':''},\n",
    "                          'poison': {'open up and say...ahh! - 20th anniversary edition':'',\n",
    "                                     'look what the cat dragged in':'',\n",
    "                                     'flesh & blood':''},\n",
    "                          'motley crue': {'shout at the devil':'',\n",
    "                                          'girls, girls, girls':'',\n",
    "                                          'dr. feelgood':''}}}"
   ]
  },
  {
   "cell_type": "code",
   "execution_count": 4,
   "metadata": {},
   "outputs": [
    {
     "data": {
      "text/plain": [
       "['metallica',\n",
       " 'slayer',\n",
       " 'judas%20priest',\n",
       " 'wu%20tang%20clan',\n",
       " 'nas',\n",
       " '2pac',\n",
       " 'johnny%20cash',\n",
       " 'patsy%20cline',\n",
       " 'willie%20nelson',\n",
       " 'taylor%20swift',\n",
       " 'katy%20perry',\n",
       " 'ariana%20grande',\n",
       " 'def%20leppard',\n",
       " 'poison',\n",
       " 'motley%20crue']"
      ]
     },
     "execution_count": 4,
     "metadata": {},
     "output_type": "execute_result"
    }
   ],
   "source": [
    "# Format artist names for Musixmatch API search.\n",
    "artist_no_spaces = []\n",
    "for genre in artist_albums:\n",
    "    for artist in artist_albums[genre]:\n",
    "        artist_no_spaces.append(artist.replace(' ', '%20'))\n",
    "    \n",
    "artist_no_spaces"
   ]
  },
  {
   "cell_type": "code",
   "execution_count": 5,
   "metadata": {},
   "outputs": [
    {
     "data": {
      "text/plain": [
       "[64,\n",
       " 2683,\n",
       " 767,\n",
       " 13882826,\n",
       " 1156,\n",
       " 99,\n",
       " 225,\n",
       " 1531,\n",
       " 3849,\n",
       " 259675,\n",
       " 190034,\n",
       " 13958599,\n",
       " 145,\n",
       " 191238,\n",
       " 12605]"
      ]
     },
     "execution_count": 5,
     "metadata": {},
     "output_type": "execute_result"
    }
   ],
   "source": [
    "# Retrieve all Musixmatch API artist ID's \n",
    "artist_ids = []\n",
    "for artist in artist_no_spaces:\n",
    "    artist_id_info = requests.get('https://api.musixmatch.com/ws/1.1/artist.search?format=json&callback=callback&q_artist=' + artist + '&apikey=' + str(API_KEY))\n",
    "    artist_ids.append(artist_id_info.json()['message']['body']['artist_list'][0]['artist']['artist_id'])\n",
    "    \n",
    "artist_ids"
   ]
  },
  {
   "cell_type": "code",
   "execution_count": 6,
   "metadata": {},
   "outputs": [],
   "source": [
    "# Use Musixmatch API artist ID's to retrieve album list for each artist.\n",
    "albums = []\n",
    "\n",
    "for ID in artist_ids:\n",
    "    api_album_info = requests.get('https://api.musixmatch.com/ws/1.1/artist.albums.get?format=json&callback=callback&artist_id=' + str(ID) + '&page_size=100&apikey=' + str(API_KEY))\n",
    "    albums.append(api_album_info.json()['message']['body']['album_list'])"
   ]
  },
  {
   "cell_type": "code",
   "execution_count": 7,
   "metadata": {},
   "outputs": [],
   "source": [
    "# Pair each album with its corresponding Musixmatch API album ID.\n",
    "album_id_list = []\n",
    "\n",
    "for i in range(len(albums)):\n",
    "    for j in range(len(albums[i])):\n",
    "        album_id_list.append((albums[i][j]['album']['album_name'].lower(),albums[i][j]['album']['album_id']))"
   ]
  },
  {
   "cell_type": "code",
   "execution_count": 8,
   "metadata": {},
   "outputs": [
    {
     "data": {
      "text/plain": [
       "[('metallica', 10276730),\n",
       " ('metallica', 10294108),\n",
       " ('metallica', 10938929),\n",
       " ('metallica', 13762536),\n",
       " ('metallica', 13763879)]"
      ]
     },
     "execution_count": 8,
     "metadata": {},
     "output_type": "execute_result"
    }
   ],
   "source": [
    "album_id_list[:5]"
   ]
  },
  {
   "cell_type": "code",
   "execution_count": 9,
   "metadata": {},
   "outputs": [],
   "source": [
    "# Keep only albums specified in 'artist_albums' dictionary.\n",
    "id_list = []\n",
    "\n",
    "for genre in artist_albums:\n",
    "    for artist in artist_albums[genre]:\n",
    "        for album in artist_albums[genre][artist]:\n",
    "            for album_id_pair in album_id_list:\n",
    "                if album_id_pair[0] == album:\n",
    "                    id_list.append(album_id_pair)"
   ]
  },
  {
   "cell_type": "code",
   "execution_count": 10,
   "metadata": {},
   "outputs": [
    {
     "data": {
      "text/plain": [
       "[('ride the lightning', 10276803),\n",
       " ('ride the lightning', 10667105),\n",
       " ('ride the lightning', 10753511),\n",
       " ('ride the lightning', 11344509),\n",
       " ('ride the lightning', 13768873)]"
      ]
     },
     "execution_count": 10,
     "metadata": {},
     "output_type": "execute_result"
    }
   ],
   "source": [
    "id_list[:5]"
   ]
  },
  {
   "cell_type": "code",
   "execution_count": 11,
   "metadata": {},
   "outputs": [],
   "source": [
    "# Use Musixmatch API album ID's to retrieve track list for each album and pair track with album title and remove duplicates.\n",
    "album_tracks = []\n",
    "\n",
    "for pair in id_list:\n",
    "    api_track_info = requests.get('https://api.musixmatch.com/ws/1.1/album.tracks.get?format=json&callback=callback&album_id=' + str(pair[1]) + '&apikey=' + str(API_KEY))\n",
    "    track_list = api_track_info.json()['message']['body']['track_list']\n",
    "    for i in range(len(track_list)):\n",
    "        if track_list[i]['track']['instrumental'] == 0:\n",
    "            track = track_list[i]['track']['track_name'].lower().split('-')[0].rstrip()\n",
    "            if (pair[0],track) not in album_tracks:\n",
    "                album_tracks.append((pair[0],track))"
   ]
  },
  {
   "cell_type": "code",
   "execution_count": 181,
   "metadata": {},
   "outputs": [
    {
     "data": {
      "text/plain": [
       "[('ride the lightning', 'fight fire with fire'),\n",
       " ('ride the lightning', 'ride the lightning'),\n",
       " ('ride the lightning', 'for whom the bell tolls'),\n",
       " ('ride the lightning', 'fade to black'),\n",
       " ('ride the lightning', 'trapped under ice')]"
      ]
     },
     "execution_count": 181,
     "metadata": {},
     "output_type": "execute_result"
    }
   ],
   "source": [
    "album_tracks[:5]"
   ]
  },
  {
   "cell_type": "code",
   "execution_count": 182,
   "metadata": {},
   "outputs": [],
   "source": [
    "# Save track lists under each album in 'artist_album' dictionary.\n",
    "for genre in artist_albums:\n",
    "    for artist in artist_albums[genre]:\n",
    "        for album in artist_albums[genre][artist]:\n",
    "            tracks = []\n",
    "            for i in range(len(album_tracks)):\n",
    "                if album_tracks[i][0] == album:\n",
    "                    tracks.append(album_tracks[i][1])\n",
    "            artist_albums[genre][artist][album] = tracks"
   ]
  },
  {
   "cell_type": "code",
   "execution_count": 183,
   "metadata": {},
   "outputs": [
    {
     "data": {
      "text/plain": [
       "{'ride the lightning': ['fight fire with fire',\n",
       "  'ride the lightning',\n",
       "  'for whom the bell tolls',\n",
       "  'fade to black',\n",
       "  'trapped under ice',\n",
       "  'escape',\n",
       "  'creeping death',\n",
       "  'for whom the bell tolls (live version)',\n",
       "  'creeping death (live version)'],\n",
       " 'master of puppets': ['battery',\n",
       "  'master of puppets',\n",
       "  'the thing that should not be',\n",
       "  'welcome home (sanitarium)',\n",
       "  'disposable heroes',\n",
       "  'leper messiah',\n",
       "  'damage, inc.',\n",
       "  'battery (live)',\n",
       "  'the thing that should not be (live)',\n",
       "  'the thing that you should not be (live)',\n",
       "  'damage inc.'],\n",
       " '...and justice for all': ['blackened',\n",
       "  '...and justice for all',\n",
       "  'eye of the beholder',\n",
       "  'one',\n",
       "  'the shortest straw',\n",
       "  'harvester of sorrow',\n",
       "  'the frayed ends of sanity',\n",
       "  'to live is to die',\n",
       "  'dyers eve']}"
      ]
     },
     "execution_count": 183,
     "metadata": {},
     "output_type": "execute_result"
    }
   ],
   "source": [
    "artist_albums['heavy metal']['metallica']"
   ]
  },
  {
   "cell_type": "code",
   "execution_count": 184,
   "metadata": {},
   "outputs": [],
   "source": [
    "# Scrap lyrics to all tracks in 'artist_album' dictionary and save to csv's.\n",
    "for genre in artist_albums:\n",
    "    for artist in artist_albums[genre]:\n",
    "        for album in artist_albums[genre][artist]:\n",
    "            for track in artist_albums[genre][artist][album]:\n",
    "                singer = artist.replace(' ', '_')\n",
    "                song = track.replace(' ', '_')\n",
    "                r = requests.get('http://lyrics.wikia.com/{0}:{1}'.format(singer,song))\n",
    "                s = BeautifulSoup(r.text)\n",
    "                #Get main lyrics holder\n",
    "                lyrics = s.find(\"div\",{'class':'lyricbox'})\n",
    "                if lyrics is None:\n",
    "                    continue\n",
    "                else:\n",
    "                    #Remove Scripts\n",
    "                    [s.extract() for s in lyrics('script')]\n",
    "                    #Remove Comments\n",
    "                    comments = lyrics.findAll(text=lambda text:isinstance(text, Comment))\n",
    "                    [comment.extract() for comment in comments]    \n",
    "                    #Remove unecessary tags\n",
    "                    for tag in ['div','i','b','a']:\n",
    "                        for match in lyrics.findAll(tag):\n",
    "                            match.replaceWithChildren()\n",
    "                    #Get output as a string and remove non unicode characters and replace <br> with newlines\n",
    "                    output = str(lyrics).encode('utf-8', errors='replace')[22:-6:].decode(\"utf-8\").replace('\\n','').replace('<br/>',' ')\n",
    "                    try:\n",
    "                        file_lyrics = open(song + '_lyrics.txt', 'w')\n",
    "                        file_lyrics.write(output)\n",
    "                        file_lyrics.close()\n",
    "                    except:\n",
    "                        file_lyrics = open(song + '_lyrics.txt', 'w')\n",
    "                        file_lyrics.write(output.encode('utf-8'))\n",
    "                        file_lyrics.close()"
   ]
  },
  {
   "cell_type": "code",
   "execution_count": 185,
   "metadata": {},
   "outputs": [],
   "source": [
    "# Create DataFrame with lyrics, song, album, artist and genre.\n",
    "df_list = []\n",
    "\n",
    "for genre in artist_albums:\n",
    "    for artist in artist_albums[genre]:\n",
    "        for album in artist_albums[genre][artist]:\n",
    "            for track in artist_albums[genre][artist][album]:\n",
    "                try:\n",
    "                    song_lyrics = open(track.replace(' ', '_') + '_lyrics.txt', 'r')\n",
    "                    lyrics = str(song_lyrics.readlines())\n",
    "                    song_lyrics.close()\n",
    "                except:\n",
    "                    continue\n",
    "                lyrics = lyrics.replace('\\\\n', '').strip('[]')\n",
    "                data = [lyrics, track, album, artist, genre]\n",
    "                df_list.append(data)\n",
    "\n",
    "master = pd.DataFrame(df_list, columns=['lyrics', 'song', 'album', 'artist', 'genre'])\n",
    "master.drop_duplicates(subset='lyrics', inplace=True)"
   ]
  },
  {
   "cell_type": "code",
   "execution_count": 186,
   "metadata": {},
   "outputs": [
    {
     "data": {
      "text/html": [
       "<div>\n",
       "<style scoped>\n",
       "    .dataframe tbody tr th:only-of-type {\n",
       "        vertical-align: middle;\n",
       "    }\n",
       "\n",
       "    .dataframe tbody tr th {\n",
       "        vertical-align: top;\n",
       "    }\n",
       "\n",
       "    .dataframe thead th {\n",
       "        text-align: right;\n",
       "    }\n",
       "</style>\n",
       "<table border=\"1\" class=\"dataframe\">\n",
       "  <thead>\n",
       "    <tr style=\"text-align: right;\">\n",
       "      <th></th>\n",
       "      <th>lyrics</th>\n",
       "      <th>song</th>\n",
       "      <th>album</th>\n",
       "      <th>artist</th>\n",
       "      <th>genre</th>\n",
       "    </tr>\n",
       "  </thead>\n",
       "  <tbody>\n",
       "    <tr>\n",
       "      <th>0</th>\n",
       "      <td>\"Do unto others as they've done to you But wha...</td>\n",
       "      <td>fight fire with fire</td>\n",
       "      <td>ride the lightning</td>\n",
       "      <td>metallica</td>\n",
       "      <td>heavy metal</td>\n",
       "    </tr>\n",
       "    <tr>\n",
       "      <th>1</th>\n",
       "      <td>'Guilty as charged but damn it, it ain\\'t righ...</td>\n",
       "      <td>ride the lightning</td>\n",
       "      <td>ride the lightning</td>\n",
       "      <td>metallica</td>\n",
       "      <td>heavy metal</td>\n",
       "    </tr>\n",
       "    <tr>\n",
       "      <th>2</th>\n",
       "      <td>\"Make his fight on the hill in the early day C...</td>\n",
       "      <td>for whom the bell tolls</td>\n",
       "      <td>ride the lightning</td>\n",
       "      <td>metallica</td>\n",
       "      <td>heavy metal</td>\n",
       "    </tr>\n",
       "    <tr>\n",
       "      <th>3</th>\n",
       "      <td>\"Life it seems will fade away Drifting further...</td>\n",
       "      <td>fade to black</td>\n",
       "      <td>ride the lightning</td>\n",
       "      <td>metallica</td>\n",
       "      <td>heavy metal</td>\n",
       "    </tr>\n",
       "    <tr>\n",
       "      <th>4</th>\n",
       "      <td>'I don\\'t know how to live through this hell W...</td>\n",
       "      <td>trapped under ice</td>\n",
       "      <td>ride the lightning</td>\n",
       "      <td>metallica</td>\n",
       "      <td>heavy metal</td>\n",
       "    </tr>\n",
       "  </tbody>\n",
       "</table>\n",
       "</div>"
      ],
      "text/plain": [
       "                                              lyrics                     song  \\\n",
       "0  \"Do unto others as they've done to you But wha...     fight fire with fire   \n",
       "1  'Guilty as charged but damn it, it ain\\'t righ...       ride the lightning   \n",
       "2  \"Make his fight on the hill in the early day C...  for whom the bell tolls   \n",
       "3  \"Life it seems will fade away Drifting further...            fade to black   \n",
       "4  'I don\\'t know how to live through this hell W...        trapped under ice   \n",
       "\n",
       "                album     artist        genre  \n",
       "0  ride the lightning  metallica  heavy metal  \n",
       "1  ride the lightning  metallica  heavy metal  \n",
       "2  ride the lightning  metallica  heavy metal  \n",
       "3  ride the lightning  metallica  heavy metal  \n",
       "4  ride the lightning  metallica  heavy metal  "
      ]
     },
     "execution_count": 186,
     "metadata": {},
     "output_type": "execute_result"
    }
   ],
   "source": [
    "master.head()"
   ]
  },
  {
   "cell_type": "code",
   "execution_count": 197,
   "metadata": {},
   "outputs": [],
   "source": [
    "#Save Dataframe to csv.\n",
    "master.to_csv('master_lyrics_data.csv', index=False)"
   ]
  },
  {
   "cell_type": "code",
   "execution_count": 188,
   "metadata": {},
   "outputs": [],
   "source": [
    "artists_ = []\n",
    "album_sums = []\n",
    "\n",
    "for genre in artist_albums:\n",
    "    for artist in artist_albums[genre]:\n",
    "        artists_.append(artist)\n",
    "        track_totals = []\n",
    "        for album in artist_albums[genre][artist]:\n",
    "            album_tracks_ = []\n",
    "            for track in artist_albums[genre][artist][album]:\n",
    "                album_tracks_.append(track)\n",
    "            track_count = len(album_tracks_)\n",
    "            track_totals.append(track_count)\n",
    "        sums = sum(track_totals)\n",
    "        album_sums.append(sums)"
   ]
  },
  {
   "cell_type": "code",
   "execution_count": 196,
   "metadata": {},
   "outputs": [
    {
     "data": {
      "text/html": [
       "<div>\n",
       "<style scoped>\n",
       "    .dataframe tbody tr th:only-of-type {\n",
       "        vertical-align: middle;\n",
       "    }\n",
       "\n",
       "    .dataframe tbody tr th {\n",
       "        vertical-align: top;\n",
       "    }\n",
       "\n",
       "    .dataframe thead th {\n",
       "        text-align: right;\n",
       "    }\n",
       "</style>\n",
       "<table border=\"1\" class=\"dataframe\">\n",
       "  <thead>\n",
       "    <tr style=\"text-align: right;\">\n",
       "      <th></th>\n",
       "      <th>total tracks</th>\n",
       "      <th>tracks w/ lyrics</th>\n",
       "      <th>difference</th>\n",
       "    </tr>\n",
       "  </thead>\n",
       "  <tbody>\n",
       "    <tr>\n",
       "      <th>2pac</th>\n",
       "      <td>46</td>\n",
       "      <td>28</td>\n",
       "      <td>18</td>\n",
       "    </tr>\n",
       "    <tr>\n",
       "      <th>ariana grande</th>\n",
       "      <td>38</td>\n",
       "      <td>31</td>\n",
       "      <td>7</td>\n",
       "    </tr>\n",
       "    <tr>\n",
       "      <th>def leppard</th>\n",
       "      <td>38</td>\n",
       "      <td>29</td>\n",
       "      <td>9</td>\n",
       "    </tr>\n",
       "    <tr>\n",
       "      <th>johnny cash</th>\n",
       "      <td>51</td>\n",
       "      <td>24</td>\n",
       "      <td>27</td>\n",
       "    </tr>\n",
       "    <tr>\n",
       "      <th>judas priest</th>\n",
       "      <td>32</td>\n",
       "      <td>29</td>\n",
       "      <td>3</td>\n",
       "    </tr>\n",
       "    <tr>\n",
       "      <th>katy perry</th>\n",
       "      <td>43</td>\n",
       "      <td>29</td>\n",
       "      <td>14</td>\n",
       "    </tr>\n",
       "    <tr>\n",
       "      <th>metallica</th>\n",
       "      <td>29</td>\n",
       "      <td>23</td>\n",
       "      <td>6</td>\n",
       "    </tr>\n",
       "    <tr>\n",
       "      <th>motley crue</th>\n",
       "      <td>66</td>\n",
       "      <td>27</td>\n",
       "      <td>39</td>\n",
       "    </tr>\n",
       "    <tr>\n",
       "      <th>nas</th>\n",
       "      <td>33</td>\n",
       "      <td>28</td>\n",
       "      <td>5</td>\n",
       "    </tr>\n",
       "    <tr>\n",
       "      <th>patsy cline</th>\n",
       "      <td>92</td>\n",
       "      <td>55</td>\n",
       "      <td>37</td>\n",
       "    </tr>\n",
       "    <tr>\n",
       "      <th>poison</th>\n",
       "      <td>30</td>\n",
       "      <td>27</td>\n",
       "      <td>3</td>\n",
       "    </tr>\n",
       "    <tr>\n",
       "      <th>slayer</th>\n",
       "      <td>35</td>\n",
       "      <td>31</td>\n",
       "      <td>4</td>\n",
       "    </tr>\n",
       "    <tr>\n",
       "      <th>taylor swift</th>\n",
       "      <td>30</td>\n",
       "      <td>30</td>\n",
       "      <td>0</td>\n",
       "    </tr>\n",
       "    <tr>\n",
       "      <th>willie nelson</th>\n",
       "      <td>39</td>\n",
       "      <td>35</td>\n",
       "      <td>4</td>\n",
       "    </tr>\n",
       "    <tr>\n",
       "      <th>wu tang clan</th>\n",
       "      <td>37</td>\n",
       "      <td>28</td>\n",
       "      <td>9</td>\n",
       "    </tr>\n",
       "  </tbody>\n",
       "</table>\n",
       "</div>"
      ],
      "text/plain": [
       "               total tracks  tracks w/ lyrics  difference\n",
       "2pac                     46                28          18\n",
       "ariana grande            38                31           7\n",
       "def leppard              38                29           9\n",
       "johnny cash              51                24          27\n",
       "judas priest             32                29           3\n",
       "katy perry               43                29          14\n",
       "metallica                29                23           6\n",
       "motley crue              66                27          39\n",
       "nas                      33                28           5\n",
       "patsy cline              92                55          37\n",
       "poison                   30                27           3\n",
       "slayer                   35                31           4\n",
       "taylor swift             30                30           0\n",
       "willie nelson            39                35           4\n",
       "wu tang clan             37                28           9"
      ]
     },
     "execution_count": 196,
     "metadata": {},
     "output_type": "execute_result"
    }
   ],
   "source": [
    "after_lyrics = master.artist.value_counts().sort_index()\n",
    "\n",
    "before_lyrics = pd.Series(album_sums, index=artists_).sort_index()\n",
    "\n",
    "track_diff = []\n",
    "for ind in before_lyrics.index:\n",
    "    diff = before_lyrics[ind] - after_lyrics[ind]\n",
    "    track_diff.append(diff)\n",
    "    \n",
    "lyrics_difference = pd.Series(track_diff, index=before_lyrics.index)\n",
    "\n",
    "DF = pd.concat([before_lyrics,after_lyrics,lyrics_difference], axis=1)\n",
    "DF.columns=['total tracks', 'tracks w/ lyrics', 'difference']\n",
    "DF"
   ]
  },
  {
   "cell_type": "code",
   "execution_count": 193,
   "metadata": {},
   "outputs": [
    {
     "data": {
      "text/plain": [
       "country        114\n",
       "pop             90\n",
       "rap             84\n",
       "heavy metal     83\n",
       "rock            83\n",
       "Name: genre, dtype: int64"
      ]
     },
     "execution_count": 193,
     "metadata": {},
     "output_type": "execute_result"
    }
   ],
   "source": [
    "master.genre.value_counts()"
   ]
  },
  {
   "cell_type": "code",
   "execution_count": null,
   "metadata": {},
   "outputs": [],
   "source": []
  },
  {
   "cell_type": "code",
   "execution_count": null,
   "metadata": {},
   "outputs": [],
   "source": []
  },
  {
   "cell_type": "code",
   "execution_count": null,
   "metadata": {},
   "outputs": [],
   "source": []
  },
  {
   "cell_type": "code",
   "execution_count": null,
   "metadata": {},
   "outputs": [],
   "source": []
  },
  {
   "cell_type": "code",
   "execution_count": 174,
   "metadata": {},
   "outputs": [],
   "source": []
  },
  {
   "cell_type": "code",
   "execution_count": null,
   "metadata": {},
   "outputs": [],
   "source": []
  },
  {
   "cell_type": "code",
   "execution_count": null,
   "metadata": {},
   "outputs": [],
   "source": []
  }
 ],
 "metadata": {
  "kernelspec": {
   "display_name": "Python 3",
   "language": "python",
   "name": "python3"
  },
  "language_info": {
   "codemirror_mode": {
    "name": "ipython",
    "version": 3
   },
   "file_extension": ".py",
   "mimetype": "text/x-python",
   "name": "python",
   "nbconvert_exporter": "python",
   "pygments_lexer": "ipython3",
   "version": "3.7.1"
  }
 },
 "nbformat": 4,
 "nbformat_minor": 2
}
