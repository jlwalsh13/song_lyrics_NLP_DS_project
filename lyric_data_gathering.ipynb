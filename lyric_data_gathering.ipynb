{
 "cells": [
  {
   "cell_type": "code",
   "execution_count": 1,
   "metadata": {},
   "outputs": [],
   "source": [
    "import pandas as pd\n",
    "import numpy as np\n",
    "import requests\n",
    "import copy\n",
    "from bs4 import BeautifulSoup, Comment, NavigableString\n",
    "import sys, codecs, json"
   ]
  },
  {
   "cell_type": "code",
   "execution_count": 2,
   "metadata": {},
   "outputs": [],
   "source": [
    "API_KEY = '__________________'"
   ]
  },
  {
   "cell_type": "code",
   "execution_count": 91,
   "metadata": {},
   "outputs": [],
   "source": [
    "# Imbedded dictionaries of genre: artist: albums: songs.\n",
    "artist_albums = {'heavy metal': {'metallica': {'ride the lightning':'', \n",
    "                                                'master of puppets':'', \n",
    "                                                '...and justice for all':''},\n",
    "                                  'slayer': {'reign in blood':'', \n",
    "                                             'south of heaven':'', \n",
    "                                             'seasons in the abyss':''},\n",
    "                                  'judas priest': {'british steel':'', \n",
    "                                                   'screaming for vengeance':'', \n",
    "                                                   'painkiller':''}},\n",
    "                 'rap': {'wu tang clan': {'enter the wu-tang: 36 chambers':'', \n",
    "                                           'the w':'', \n",
    "                                           'iron flag':''},\n",
    "                          'nas': {'illmatic':'', \n",
    "                                  'it was written':'', \n",
    "                                  'i am...':''},\n",
    "                          '2pac': {'strictly 4 my n.i.g.g.a.z...':'', \n",
    "                                   'me against the world':'', \n",
    "                                   'all eyez on me':''}},\n",
    "                 'country': {'johnny cash': {'man in black':'', \n",
    "                                              'at san quentin':'', \n",
    "                                              'at folsom prison':''},\n",
    "                              'patsy cline': {'patsy cline':'', \n",
    "                                              'showcase':'', \n",
    "                                              'sentimentally yours':''},\n",
    "                              'willie nelson': {'stardust':'', \n",
    "                                                'shotgun willie':'', \n",
    "                                                'red headed stranger':''}},\n",
    "                 'pop': {'taylor swift': {'fearless':'', \n",
    "                                           'speak now':'', \n",
    "                                           '1989':''},\n",
    "                          'katy perry': {'teenage dream':'', \n",
    "                                         'prism':'', \n",
    "                                         'witness':''},\n",
    "                          'ariana grande': {'dangerous woman':'', \n",
    "                                            'sweetener':'', \n",
    "                                            'thank u, next':''}},\n",
    "                 'rock': {'def leppard': {\"high 'n' dry\":'', \n",
    "                                           'pyromania':'', \n",
    "                                           'hysteria':''},\n",
    "                           'poison': {'open up and say...ahh! - 20th anniversary edition':'', \n",
    "                                      'look what the cat dragged in':'', \n",
    "                                      'flesh & blood':''},\n",
    "                           'motley crue': {'shout at the devil':'', \n",
    "                                           'girls, girls, girls':'', \n",
    "                                           'dr. feelgood':''}}}"
   ]
  },
  {
   "cell_type": "code",
   "execution_count": 95,
   "metadata": {},
   "outputs": [
    {
     "data": {
      "text/plain": [
       "['metallica',\n",
       " 'slayer',\n",
       " 'judas%20priest',\n",
       " 'wu%20tang%20clan',\n",
       " 'nas',\n",
       " '2pac',\n",
       " 'johnny%20cash',\n",
       " 'patsy%20cline',\n",
       " 'willie%20nelson',\n",
       " 'taylor%20swift',\n",
       " 'katy%20perry',\n",
       " 'ariana%20grande',\n",
       " 'def%20leppard',\n",
       " 'poison',\n",
       " 'motley%20crue']"
      ]
     },
     "execution_count": 95,
     "metadata": {},
     "output_type": "execute_result"
    }
   ],
   "source": [
    "# Format artist names for Musixmatch API search.\n",
    "artist_no_spaces = []\n",
    "for genre in artist_albums:\n",
    "    for artist in artist_albums[genre]:\n",
    "        artist_no_spaces.append(artist.replace(' ', '%20'))\n",
    "    \n",
    "artist_no_spaces"
   ]
  },
  {
   "cell_type": "code",
   "execution_count": 6,
   "metadata": {},
   "outputs": [
    {
     "data": {
      "text/plain": [
       "[64,\n",
       " 2683,\n",
       " 767,\n",
       " 13882826,\n",
       " 1156,\n",
       " 99,\n",
       " 225,\n",
       " 1531,\n",
       " 3849,\n",
       " 259675,\n",
       " 190034,\n",
       " 13958599,\n",
       " 145,\n",
       " 191238,\n",
       " 12605]"
      ]
     },
     "execution_count": 6,
     "metadata": {},
     "output_type": "execute_result"
    }
   ],
   "source": [
    "# Retrieve all Musixmatch API artist ID's \n",
    "artist_ids = []\n",
    "for artist in artist_no_spaces:\n",
    "    artist_id_info = requests.get('https://api.musixmatch.com/ws/1.1/artist.search?format=json&callback=callback&q_artist=' + artist + '&apikey=' + str(API_KEY))\n",
    "    artist_ids.append(artist_id_info.json()['message']['body']['artist_list'][0]['artist']['artist_id'])\n",
    "    \n",
    "artist_ids"
   ]
  },
  {
   "cell_type": "code",
   "execution_count": 7,
   "metadata": {},
   "outputs": [],
   "source": [
    "# Use Musixmatch API artist ID's to retrieve album list for each artist.\n",
    "albums = []\n",
    "\n",
    "for ID in artist_ids:\n",
    "    api_album_info = requests.get('https://api.musixmatch.com/ws/1.1/artist.albums.get?format=json&callback=callback&artist_id=' + str(ID) + '&page_size=100&apikey=' + str(API_KEY))\n",
    "    albums.append(api_album_info.json()['message']['body']['album_list'])"
   ]
  },
  {
   "cell_type": "code",
   "execution_count": 8,
   "metadata": {},
   "outputs": [],
   "source": [
    "# Pair each album with its corresponding Musixmatch API album ID.\n",
    "album_id_list = []\n",
    "\n",
    "for i in range(len(albums)):\n",
    "    for j in range(len(albums[i])):\n",
    "        album_id_list.append((albums[i][j]['album']['album_name'].lower(),albums[i][j]['album']['album_id']))"
   ]
  },
  {
   "cell_type": "code",
   "execution_count": 9,
   "metadata": {},
   "outputs": [
    {
     "data": {
      "text/plain": [
       "[('metallica', 10276730),\n",
       " ('metallica', 10294108),\n",
       " ('metallica', 10938929),\n",
       " ('metallica', 13762536),\n",
       " ('metallica', 13763879)]"
      ]
     },
     "execution_count": 9,
     "metadata": {},
     "output_type": "execute_result"
    }
   ],
   "source": [
    "album_id_list[:5]"
   ]
  },
  {
   "cell_type": "code",
   "execution_count": 97,
   "metadata": {},
   "outputs": [],
   "source": [
    "# Keep only albums specified in 'artist_albums' dictionary.\n",
    "id_list = []\n",
    "\n",
    "for genre in artist_albums:\n",
    "    for artist in artist_albums[genre]:\n",
    "        for album in artist_albums[genre][artist]:\n",
    "            for album_id_pair in album_id_list:\n",
    "                if album_id_pair[0] == album:\n",
    "                    id_list.append(album_id_pair)"
   ]
  },
  {
   "cell_type": "code",
   "execution_count": 98,
   "metadata": {},
   "outputs": [
    {
     "data": {
      "text/plain": [
       "[('ride the lightning', 10276803),\n",
       " ('ride the lightning', 10667105),\n",
       " ('ride the lightning', 10753511),\n",
       " ('ride the lightning', 11344509),\n",
       " ('ride the lightning', 13768873)]"
      ]
     },
     "execution_count": 98,
     "metadata": {},
     "output_type": "execute_result"
    }
   ],
   "source": [
    "id_list[:5]"
   ]
  },
  {
   "cell_type": "code",
   "execution_count": 72,
   "metadata": {},
   "outputs": [],
   "source": [
    "# Use Musixmatch API album ID's to retrieve track list for each album and pair track with album title.\n",
    "album_tracks = []\n",
    "\n",
    "for pair in id_list:\n",
    "    api_track_info = requests.get('https://api.musixmatch.com/ws/1.1/album.tracks.get?format=json&callback=callback&album_id=' + str(pair[1]) + '&apikey=' + str(API_KEY))\n",
    "    track_list = api_track_info.json()['message']['body']['track_list']\n",
    "    for i in range(len(track_list)):\n",
    "        if track_list[i]['track']['instrumental'] == 0:\n",
    "            track = track_list[i]['track']['track_name'].lower()\n",
    "            if (pair[0],track) not in album_tracks:\n",
    "                album_tracks.append((pair[0],track))"
   ]
  },
  {
   "cell_type": "code",
   "execution_count": 73,
   "metadata": {},
   "outputs": [
    {
     "data": {
      "text/plain": [
       "[('ride the lightning', 'fight fire with fire'),\n",
       " ('ride the lightning', 'ride the lightning'),\n",
       " ('ride the lightning', 'for whom the bell tolls'),\n",
       " ('ride the lightning', 'fade to black'),\n",
       " ('ride the lightning', 'trapped under ice')]"
      ]
     },
     "execution_count": 73,
     "metadata": {},
     "output_type": "execute_result"
    }
   ],
   "source": [
    "album_tracks[:5]"
   ]
  },
  {
   "cell_type": "code",
   "execution_count": 100,
   "metadata": {},
   "outputs": [],
   "source": [
    "# Save track lists under each album in 'artist_album' dictionary.\n",
    "for genre in artist_albums:\n",
    "    for artist in artist_albums[genre]:\n",
    "        for album in artist_albums[genre][artist]:\n",
    "            tracks = []\n",
    "            for i in range(len(album_tracks)):\n",
    "                if album_tracks[i][0] == album:\n",
    "                    tracks.append(album_tracks[i][1])\n",
    "            artist_albums[genre][artist][album] = tracks"
   ]
  },
  {
   "cell_type": "code",
   "execution_count": 103,
   "metadata": {},
   "outputs": [
    {
     "data": {
      "text/plain": [
       "{'ride the lightning': ['fight fire with fire',\n",
       "  'ride the lightning',\n",
       "  'for whom the bell tolls',\n",
       "  'fade to black',\n",
       "  'trapped under ice',\n",
       "  'escape',\n",
       "  'creeping death',\n",
       "  'for whom the bell tolls - live',\n",
       "  'creeping death - live',\n",
       "  'for whom the bell tolls (live version)',\n",
       "  'creeping death (live version)'],\n",
       " 'master of puppets': ['battery',\n",
       "  'master of puppets',\n",
       "  'the thing that should not be',\n",
       "  'welcome home (sanitarium)',\n",
       "  'disposable heroes',\n",
       "  'leper messiah',\n",
       "  'damage, inc.',\n",
       "  'battery (live)',\n",
       "  'the thing that should not be (live)',\n",
       "  'the thing that you should not be (live)',\n",
       "  'welcome home (sanitarium) - sanitarium',\n",
       "  'damage inc.'],\n",
       " '...and justice for all': ['blackened',\n",
       "  '...and justice for all',\n",
       "  'eye of the beholder',\n",
       "  'one',\n",
       "  'the shortest straw',\n",
       "  'harvester of sorrow',\n",
       "  'the frayed ends of sanity',\n",
       "  'to live is to die',\n",
       "  'dyers eve',\n",
       "  'one - live']}"
      ]
     },
     "execution_count": 103,
     "metadata": {},
     "output_type": "execute_result"
    }
   ],
   "source": [
    "artist_albums['heavy metal']['metallica']"
   ]
  },
  {
   "cell_type": "code",
   "execution_count": 16,
   "metadata": {},
   "outputs": [],
   "source": [
    "# Scrap lyrics to all tracks in 'artist_album' dictionary and save to csv's.\n",
    "for genre in artist_albums:\n",
    "    for artist in artist_albums[genre]:\n",
    "        for album in artist_albums[genre][artist]:\n",
    "            for track in artist_albums[genre][artist][album]:\n",
    "                singer = artist.replace(' ', '_')\n",
    "                song = track.replace(' ', '_')\n",
    "                r = requests.get('http://lyrics.wikia.com/{0}:{1}'.format(singer,song))\n",
    "                s = BeautifulSoup(r.text)\n",
    "                #Get main lyrics holder\n",
    "                lyrics = s.find(\"div\",{'class':'lyricbox'})\n",
    "                if lyrics is None:\n",
    "                    continue\n",
    "                else:\n",
    "                    #Remove Scripts\n",
    "                    [s.extract() for s in lyrics('script')]\n",
    "                    #Remove Comments\n",
    "                    comments = lyrics.findAll(text=lambda text:isinstance(text, Comment))\n",
    "                    [comment.extract() for comment in comments]    \n",
    "                    #Remove unecessary tags\n",
    "                    for tag in ['div','i','b','a']:\n",
    "                        for match in lyrics.findAll(tag):\n",
    "                            match.replaceWithChildren()\n",
    "                    #Get output as a string and remove non unicode characters and replace <br> with newlines\n",
    "                    output = str(lyrics).encode('utf-8', errors='replace')[22:-6:].decode(\"utf-8\").replace('\\n','').replace('<br/>','\\n')\n",
    "                    try:\n",
    "                        file_lyrics = open(song + '_lyrics.txt', 'w')\n",
    "                        file_lyrics.write(output)\n",
    "                        file1.close()\n",
    "                    except:\n",
    "                        file_lyrics = open(song + '_lyrics.txt', 'w')\n",
    "                        file_lyrics.write(output.encode('utf-8'))\n",
    "                        file_lyrics.close()"
   ]
  },
  {
   "cell_type": "code",
   "execution_count": 106,
   "metadata": {},
   "outputs": [],
   "source": [
    "# Create DataFrame with lyrics, song, album, artist and genre.\n",
    "df_list = []\n",
    "\n",
    "for genre in artist_albums:\n",
    "    for artist in artist_albums[genre]:\n",
    "        for album in artist_albums[genre][artist]:\n",
    "            for track in artist_albums[genre][artist][album]:\n",
    "                try:\n",
    "                    f = open(track.replace(' ', '_') + '_lyrics.txt', 'r')\n",
    "                    x = f.readlines()\n",
    "                    f.close()\n",
    "                except:\n",
    "                    continue\n",
    "                clean = []\n",
    "                for line in x:\n",
    "                    if line[-1:] == '\\n':\n",
    "                        clean.append(line[:-1])\n",
    "                    else:\n",
    "                        clean.append(line)\n",
    "                df = pd.DataFrame(clean, columns=['lyrics'])\n",
    "                df.lyrics.replace('', np.nan, inplace=True)\n",
    "                df.dropna(subset=['lyrics'], inplace=True)\n",
    "                df['song'] = track\n",
    "                df['album'] = album\n",
    "                df['artist'] = artist\n",
    "                df['genre'] = genre\n",
    "                df_list.append(df)\n",
    "\n",
    "master = pd.concat(df_list).reset_index(drop=True)"
   ]
  },
  {
   "cell_type": "code",
   "execution_count": 107,
   "metadata": {},
   "outputs": [
    {
     "data": {
      "text/html": [
       "<div>\n",
       "<style scoped>\n",
       "    .dataframe tbody tr th:only-of-type {\n",
       "        vertical-align: middle;\n",
       "    }\n",
       "\n",
       "    .dataframe tbody tr th {\n",
       "        vertical-align: top;\n",
       "    }\n",
       "\n",
       "    .dataframe thead th {\n",
       "        text-align: right;\n",
       "    }\n",
       "</style>\n",
       "<table border=\"1\" class=\"dataframe\">\n",
       "  <thead>\n",
       "    <tr style=\"text-align: right;\">\n",
       "      <th></th>\n",
       "      <th>lyrics</th>\n",
       "      <th>song</th>\n",
       "      <th>album</th>\n",
       "      <th>artist</th>\n",
       "      <th>genre</th>\n",
       "    </tr>\n",
       "  </thead>\n",
       "  <tbody>\n",
       "    <tr>\n",
       "      <th>0</th>\n",
       "      <td>Do unto others as they've done to you</td>\n",
       "      <td>fight fire with fire</td>\n",
       "      <td>ride the lightning</td>\n",
       "      <td>metallica</td>\n",
       "      <td>heavy metal</td>\n",
       "    </tr>\n",
       "    <tr>\n",
       "      <th>1</th>\n",
       "      <td>But what the hell is this world coming to?</td>\n",
       "      <td>fight fire with fire</td>\n",
       "      <td>ride the lightning</td>\n",
       "      <td>metallica</td>\n",
       "      <td>heavy metal</td>\n",
       "    </tr>\n",
       "    <tr>\n",
       "      <th>2</th>\n",
       "      <td>Blow the universe into nothingness</td>\n",
       "      <td>fight fire with fire</td>\n",
       "      <td>ride the lightning</td>\n",
       "      <td>metallica</td>\n",
       "      <td>heavy metal</td>\n",
       "    </tr>\n",
       "    <tr>\n",
       "      <th>3</th>\n",
       "      <td>Nuclear warfare shall lay us to rest</td>\n",
       "      <td>fight fire with fire</td>\n",
       "      <td>ride the lightning</td>\n",
       "      <td>metallica</td>\n",
       "      <td>heavy metal</td>\n",
       "    </tr>\n",
       "    <tr>\n",
       "      <th>4</th>\n",
       "      <td>Fight fire with fire</td>\n",
       "      <td>fight fire with fire</td>\n",
       "      <td>ride the lightning</td>\n",
       "      <td>metallica</td>\n",
       "      <td>heavy metal</td>\n",
       "    </tr>\n",
       "  </tbody>\n",
       "</table>\n",
       "</div>"
      ],
      "text/plain": [
       "                                       lyrics                  song  \\\n",
       "0       Do unto others as they've done to you  fight fire with fire   \n",
       "1  But what the hell is this world coming to?  fight fire with fire   \n",
       "2          Blow the universe into nothingness  fight fire with fire   \n",
       "3        Nuclear warfare shall lay us to rest  fight fire with fire   \n",
       "4                        Fight fire with fire  fight fire with fire   \n",
       "\n",
       "                album     artist        genre  \n",
       "0  ride the lightning  metallica  heavy metal  \n",
       "1  ride the lightning  metallica  heavy metal  \n",
       "2  ride the lightning  metallica  heavy metal  \n",
       "3  ride the lightning  metallica  heavy metal  \n",
       "4  ride the lightning  metallica  heavy metal  "
      ]
     },
     "execution_count": 107,
     "metadata": {},
     "output_type": "execute_result"
    }
   ],
   "source": [
    "master.head()"
   ]
  },
  {
   "cell_type": "code",
   "execution_count": 77,
   "metadata": {},
   "outputs": [],
   "source": [
    "#Save Dataframe to csv.\n",
    "master.to_csv('master_lyrics_data.csv', index=False)"
   ]
  },
  {
   "cell_type": "code",
   "execution_count": null,
   "metadata": {},
   "outputs": [],
   "source": []
  },
  {
   "cell_type": "code",
   "execution_count": null,
   "metadata": {},
   "outputs": [],
   "source": []
  },
  {
   "cell_type": "code",
   "execution_count": null,
   "metadata": {},
   "outputs": [],
   "source": []
  },
  {
   "cell_type": "code",
   "execution_count": null,
   "metadata": {},
   "outputs": [],
   "source": []
  }
 ],
 "metadata": {
  "kernelspec": {
   "display_name": "Python 3",
   "language": "python",
   "name": "python3"
  },
  "language_info": {
   "codemirror_mode": {
    "name": "ipython",
    "version": 3
   },
   "file_extension": ".py",
   "mimetype": "text/x-python",
   "name": "python",
   "nbconvert_exporter": "python",
   "pygments_lexer": "ipython3",
   "version": "3.7.1"
  }
 },
 "nbformat": 4,
 "nbformat_minor": 2
}
