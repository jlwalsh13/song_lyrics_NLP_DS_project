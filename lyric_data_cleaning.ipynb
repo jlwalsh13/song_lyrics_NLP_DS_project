{
 "cells": [
  {
   "cell_type": "code",
   "execution_count": 63,
   "metadata": {},
   "outputs": [],
   "source": [
    "import pandas as pd\n",
    "from nltk.stem import WordNetLemmatizer\n",
    "from nltk.corpus import stopwords \n",
    "from nltk.tokenize import regexp_tokenize\n",
    "import matplotlib.pyplot as plt"
   ]
  },
  {
   "cell_type": "code",
   "execution_count": 116,
   "metadata": {},
   "outputs": [
    {
     "data": {
      "text/html": [
       "<div>\n",
       "<style scoped>\n",
       "    .dataframe tbody tr th:only-of-type {\n",
       "        vertical-align: middle;\n",
       "    }\n",
       "\n",
       "    .dataframe tbody tr th {\n",
       "        vertical-align: top;\n",
       "    }\n",
       "\n",
       "    .dataframe thead th {\n",
       "        text-align: right;\n",
       "    }\n",
       "</style>\n",
       "<table border=\"1\" class=\"dataframe\">\n",
       "  <thead>\n",
       "    <tr style=\"text-align: right;\">\n",
       "      <th></th>\n",
       "      <th>lyrics</th>\n",
       "      <th>song</th>\n",
       "      <th>album</th>\n",
       "      <th>artist</th>\n",
       "      <th>genre</th>\n",
       "    </tr>\n",
       "  </thead>\n",
       "  <tbody>\n",
       "    <tr>\n",
       "      <th>0</th>\n",
       "      <td>\"Do unto others as they've done to you But wha...</td>\n",
       "      <td>fight fire with fire</td>\n",
       "      <td>ride the lightning</td>\n",
       "      <td>metallica</td>\n",
       "      <td>heavy metal</td>\n",
       "    </tr>\n",
       "    <tr>\n",
       "      <th>1</th>\n",
       "      <td>'Guilty as charged but damn it, it ain\\'t righ...</td>\n",
       "      <td>ride the lightning</td>\n",
       "      <td>ride the lightning</td>\n",
       "      <td>metallica</td>\n",
       "      <td>heavy metal</td>\n",
       "    </tr>\n",
       "    <tr>\n",
       "      <th>2</th>\n",
       "      <td>\"Make his fight on the hill in the early day C...</td>\n",
       "      <td>for whom the bell tolls</td>\n",
       "      <td>ride the lightning</td>\n",
       "      <td>metallica</td>\n",
       "      <td>heavy metal</td>\n",
       "    </tr>\n",
       "    <tr>\n",
       "      <th>3</th>\n",
       "      <td>\"Life it seems will fade away Drifting further...</td>\n",
       "      <td>fade to black</td>\n",
       "      <td>ride the lightning</td>\n",
       "      <td>metallica</td>\n",
       "      <td>heavy metal</td>\n",
       "    </tr>\n",
       "    <tr>\n",
       "      <th>4</th>\n",
       "      <td>'I don\\'t know how to live through this hell W...</td>\n",
       "      <td>trapped under ice</td>\n",
       "      <td>ride the lightning</td>\n",
       "      <td>metallica</td>\n",
       "      <td>heavy metal</td>\n",
       "    </tr>\n",
       "  </tbody>\n",
       "</table>\n",
       "</div>"
      ],
      "text/plain": [
       "                                              lyrics                     song  \\\n",
       "0  \"Do unto others as they've done to you But wha...     fight fire with fire   \n",
       "1  'Guilty as charged but damn it, it ain\\'t righ...       ride the lightning   \n",
       "2  \"Make his fight on the hill in the early day C...  for whom the bell tolls   \n",
       "3  \"Life it seems will fade away Drifting further...            fade to black   \n",
       "4  'I don\\'t know how to live through this hell W...        trapped under ice   \n",
       "\n",
       "                album     artist        genre  \n",
       "0  ride the lightning  metallica  heavy metal  \n",
       "1  ride the lightning  metallica  heavy metal  \n",
       "2  ride the lightning  metallica  heavy metal  \n",
       "3  ride the lightning  metallica  heavy metal  \n",
       "4  ride the lightning  metallica  heavy metal  "
      ]
     },
     "execution_count": 116,
     "metadata": {},
     "output_type": "execute_result"
    }
   ],
   "source": [
    "master = pd.read_csv('master_lyrics_data.csv')\n",
    "\n",
    "master.head()"
   ]
  },
  {
   "cell_type": "code",
   "execution_count": 162,
   "metadata": {},
   "outputs": [
    {
     "name": "stdout",
     "output_type": "stream",
     "text": [
      "Song: angel of death\n",
      "Artist: slayer\n",
      "Album: reign in blood\n",
      "\n",
      "Lyrics:\n",
      "\"Auschwitz, the meaning of pain The way that I want you to die Slow death, immense decay Showers that cleanse you of your life  Forced in like cattle, you run Stripped of your life's worth Human mice, for the Angel of Death Four hundred thousand more to die  Angel of Death Monarch to the kingdom of the dead  Sadistic, surgeon of demise Sadist of the noblest blood Destroying without mercy To benefit the Aryan race  Surgery with no anesthesia Feel the knife pierce you intensely Inferior, no use to mankind Strapped down screaming out to die  Angel of Death Monarch to the kingdom of the dead Infamous butcher Angel of Death  Pumped with fluid, inside your brain Pressure in your skull begins pushing through your eyes Burning flesh drips away Test of heat burns your skin, your mind starts to boil  Frigid cold, cracks your limbs How long can you last in this frozen water burial? Sewn together, joining heads Just a matter of time 'til you rip yourselves apart  Millions laid out in their crowded tombs Sickening ways to achieve the holocaust  Seas of blood, bury life Smell your death as it burns deep inside of you Abacinate, eyes that bleed Praying for the end of your wide awake nightmare  Wings of pain reach out for you His face of death staring down, your blood's running cold Injecting cells, dying eyes Feeding on the screams of the mutant he's creating  Pathetic harmless victims left to die Rancid Angel of Death flying free  Angel of Death Monarch to the kingdom of the dead Infamous butcher Angel of Death Angel of Death\"\n",
      "\n",
      "Cleaned Lyrics:\n",
      "['auschwitz', 'mean', 'pain', 'way', 'want', 'die', 'slow', 'death', 'immense', 'decay', 'shower', 'cleanse', 'life', 'force', 'like', 'cattle', 'run', 'strip', 'life', 'worth', 'human', 'mouse', 'angel', 'death', 'four', 'hundred', 'thousand', 'die', 'angel', 'death', 'monarch', 'kingdom', 'dead', 'sadistic', 'surgeon', 'demise', 'sadist', 'noble', 'blood', 'destroy', 'without', 'mercy', 'benefit', 'aryan', 'race', 'surgery', 'anesthesia', 'feel', 'knife', 'pierce', 'intensely', 'inferior', 'use', 'mankind', 'strap', 'scream', 'die', 'angel', 'death', 'monarch', 'kingdom', 'dead', 'infamous', 'butch', 'angel', 'death', 'pump', 'fluid', 'inside', 'brain', 'pressure', 'skull', 'begin', 'push', 'eye', 'burn', 'flesh', 'drip', 'away', 'test', 'heat', 'burn', 'skin', 'mind', 'start', 'boil', 'frigid', 'cold', 'crack', 'limb', 'long', 'last', 'freeze', 'water', 'burial', 'sew', 'together', 'join', 'head', 'matter', 'time', 'til', 'rip', 'apart', 'million', 'lay', 'crowd', 'tomb', 'sicken', 'way', 'achieve', 'holocaust', 'sea', 'blood', 'bury', 'life', 'smell', 'death', 'burn', 'deep', 'inside', 'abacinate', 'eye', 'bleed', 'pray', 'end', 'wide', 'awake', 'nightmare', 'wing', 'pain', 'reach', 'face', 'death', 'star', 'blood', 'run', 'cold', 'inject', 'cell', 'die', 'eye', 'feed', 'scream', 'mutant', 'create', 'pathetic', 'harmless', 'victim', 'leave', 'die', 'rancid', 'angel', 'death', 'fly', 'free', 'angel', 'death', 'monarch', 'kingdom', 'dead', 'infamous', 'butch', 'angel', 'death', 'angel', 'death']\n"
     ]
    }
   ],
   "source": [
    "num = 23\n",
    "\n",
    "lyrics = master.lyrics[num]\n",
    "\n",
    "word_tokens = regexp_tokenize(lyrics, r\"(\\w+|\\?|!)\")\n",
    "\n",
    "word_tokens_lower = [word.lower() for word in word_tokens]\n",
    "\n",
    "lemmatizer = WordNetLemmatizer()\n",
    "\n",
    "lemmatized_tokens = [lemmatizer.lemmatize(word, pos='v') for word in word_tokens_lower]\n",
    "lemmatized_tokens = [lemmatizer.lemmatize(word, pos='n') for word in lemmatized_tokens]\n",
    "lemmatized_tokens = [lemmatizer.lemmatize(word, pos='a') for word in lemmatized_tokens]\n",
    "lemmatized_tokens = [lemmatizer.lemmatize(word, pos='r') for word in lemmatized_tokens]\n",
    "\n",
    "stop_words = stopwords.words('english')\n",
    "\n",
    "no_stopwords = [word for word in lemmatized_tokens if word not in stop_words and len(word) > 1]\n",
    "\n",
    "\n",
    "print('Song: ' + master.song[num])\n",
    "print('Artist: ' + master.artist[num])\n",
    "print('Album: ' + master.album[num])\n",
    "print('')\n",
    "print('Lyrics:')\n",
    "print(lyrics)\n",
    "print('')\n",
    "print('Cleaned Lyrics:')\n",
    "print(no_stopwords)"
   ]
  },
  {
   "cell_type": "code",
   "execution_count": 144,
   "metadata": {},
   "outputs": [],
   "source": [
    "# genres = master.genre.unique()\n",
    "# genre_dic = {}\n",
    "\n",
    "\n",
    "# for genre_ in genres:\n",
    "#     list1 = []\n",
    "#     dic = {genre_:''}\n",
    "#     genre_dic.update(dic)\n",
    "#     genre_df = master[master.genre == genre_].copy()\n",
    "#     for lyrics in genre_df.lyrics:\n",
    "#         word_tokens = regexp_tokenize(lyrics, r\"(\\w+|\\?|!)\")\n",
    "\n",
    "#         word_tokens_lower = [word.lower() for word in word_tokens]\n",
    "\n",
    "#         lemmatizer = WordNetLemmatizer()\n",
    "\n",
    "#         lemmatized_tokens = [lemmatizer.lemmatize(word, pos='v') for word in word_tokens_lower]\n",
    "#         lemmatized_tokens = [lemmatizer.lemmatize(word, pos='n') for word in lemmatized_tokens]\n",
    "#         lemmatized_tokens = [lemmatizer.lemmatize(word, pos='a') for word in lemmatized_tokens]\n",
    "#         lemmatized_tokens = [lemmatizer.lemmatize(word, pos='r') for word in lemmatized_tokens]\n",
    "\n",
    "#         stop_words = stopwords.words('english')\n",
    "\n",
    "#         no_stopwords = [word for word in lemmatized_tokens if word not in stop_words and len(word) > 1]\n",
    "        \n",
    "#         list1.append(no_stopwords)\n",
    "        \n",
    "#     genre_dic[genre_] = list1"
   ]
  },
  {
   "cell_type": "code",
   "execution_count": null,
   "metadata": {},
   "outputs": [],
   "source": []
  },
  {
   "cell_type": "code",
   "execution_count": 92,
   "metadata": {},
   "outputs": [],
   "source": []
  },
  {
   "cell_type": "code",
   "execution_count": null,
   "metadata": {},
   "outputs": [],
   "source": []
  },
  {
   "cell_type": "code",
   "execution_count": null,
   "metadata": {},
   "outputs": [],
   "source": []
  },
  {
   "cell_type": "code",
   "execution_count": null,
   "metadata": {},
   "outputs": [],
   "source": []
  }
 ],
 "metadata": {
  "kernelspec": {
   "display_name": "Python 3",
   "language": "python",
   "name": "python3"
  },
  "language_info": {
   "codemirror_mode": {
    "name": "ipython",
    "version": 3
   },
   "file_extension": ".py",
   "mimetype": "text/x-python",
   "name": "python",
   "nbconvert_exporter": "python",
   "pygments_lexer": "ipython3",
   "version": "3.7.1"
  }
 },
 "nbformat": 4,
 "nbformat_minor": 2
}
